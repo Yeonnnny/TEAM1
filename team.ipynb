{
 "cells": [
  {
   "cell_type": "code",
   "execution_count": 1,
   "metadata": {},
   "outputs": [
    {
     "name": "stdout",
     "output_type": "stream",
     "text": [
      "hello world\n"
     ]
    }
   ],
   "source": [
    "print('hello world')"
   ]
  },
  {
   "cell_type": "code",
   "execution_count": 2,
   "metadata": {},
   "outputs": [
    {
     "name": "stdout",
     "output_type": "stream",
     "text": [
      "final test pls\n"
     ]
    }
   ],
   "source": [
    "print('final test pls')"
   ]
  },
  {
   "cell_type": "code",
   "execution_count": 1,
   "metadata": {},
   "outputs": [
    {
     "name": "stdout",
     "output_type": "stream",
     "text": [
      "111\n"
     ]
    }
   ],
   "source": [
    "print(111)"
   ]
  },
  {
   "cell_type": "code",
<<<<<<< HEAD
   "execution_count": 2,
=======
   "execution_count": 1,
>>>>>>> fd8bbeb5efcf6d0c82d2b155d6eed7b34c51fab8
   "metadata": {},
   "outputs": [
    {
     "name": "stdout",
     "output_type": "stream",
     "text": [
<<<<<<< HEAD
<<<<<<< HEAD
      "인영\n"
=======
      "진우야 힘내\n"
>>>>>>> fd97dcad7eb363989652e0290afa31fd9fc02310
=======
      "DOYEON\n"
>>>>>>> fd8bbeb5efcf6d0c82d2b155d6eed7b34c51fab8
     ]
    }
   ],
   "source": [
<<<<<<< HEAD
<<<<<<< HEAD
    "print('인영')"
=======
    "print('진우야 힘내')"
>>>>>>> fd97dcad7eb363989652e0290afa31fd9fc02310
=======
    "print('DOYEON')"
>>>>>>> fd8bbeb5efcf6d0c82d2b155d6eed7b34c51fab8
   ]
  }
 ],
 "metadata": {
  "kernelspec": {
   "display_name": "Python 3",
   "language": "python",
   "name": "python3"
  },
  "language_info": {
   "codemirror_mode": {
    "name": "ipython",
    "version": 3
   },
   "file_extension": ".py",
   "mimetype": "text/x-python",
   "name": "python",
   "nbconvert_exporter": "python",
   "pygments_lexer": "ipython3",
<<<<<<< HEAD
   "version": "3.11.5"
=======
   "version": "3.11.6"
>>>>>>> fd8bbeb5efcf6d0c82d2b155d6eed7b34c51fab8
  }
 },
 "nbformat": 4,
 "nbformat_minor": 2
}
